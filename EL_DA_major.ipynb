{
  "nbformat": 4,
  "nbformat_minor": 0,
  "metadata": {
    "colab": {
      "provenance": []
    },
    "kernelspec": {
      "name": "python3",
      "display_name": "Python 3"
    },
    "language_info": {
      "name": "python"
    }
  },
  "cells": [
    {
      "cell_type": "code",
      "execution_count": 11,
      "metadata": {
        "colab": {
          "base_uri": "https://localhost:8080/"
        },
        "id": "c3OBJPytQkb-",
        "outputId": "e4eba15a-b706-4cf8-a18f-85e116370f3d"
      },
      "outputs": [
        {
          "output_type": "stream",
          "name": "stdout",
          "text": [
            "Burn Rate calculated per entry:\n",
            "       Month  Monthly_Revenue  Monthly_Expenses  Burn_Rate\n",
            "0 2022-01-01         15470.93          16918.48    1447.55\n",
            "1 2022-01-01         15818.14          16504.86     686.72\n",
            "2 2022-03-01         15681.24          17076.63    1395.39\n",
            "3 2022-04-01         15539.42          15850.70     311.28\n",
            "4 2022-05-01         16015.74          15612.08    -403.66\n",
            "\n",
            "Original CAC values per entry:\n",
            "       Month     CAC\n",
            "0 2022-01-01  251.40\n",
            "1 2022-01-01  254.21\n",
            "2 2022-03-01  256.04\n",
            "3 2022-04-01  250.50\n",
            "4 2022-05-01  253.67\n",
            "\n",
            "Original LTV values per entry:\n",
            "       Month      LTV\n",
            "0 2022-01-01  4787.11\n",
            "1 2022-01-01  6254.07\n",
            "2 2022-03-01  6225.44\n",
            "3 2022-04-01  6256.58\n",
            "4 2022-05-01  3412.73\n",
            "\n",
            "LTV:CAC Ratio calculated per entry:\n",
            "       Month      LTV     CAC  LTV_CAC_Ratio\n",
            "0 2022-01-01  4787.11  251.40      19.041806\n",
            "1 2022-01-01  6254.07  254.21      24.601983\n",
            "2 2022-03-01  6225.44  256.04      24.314326\n",
            "3 2022-04-01  6256.58  250.50      24.976367\n",
            "4 2022-05-01  3412.73  253.67      13.453424\n",
            "\n",
            "Aggregated Monthly KPIs:\n",
            "       Month  Monthly_Revenue  Monthly_Expenses  Total_CAC  Total_LTV  \\\n",
            "0 2022-01-01         31289.07          33423.34     505.61   11041.18   \n",
            "1 2022-03-01         15681.24          17076.63     256.04    6225.44   \n",
            "2 2022-04-01         15539.42          15850.70     250.50    6256.58   \n",
            "3 2022-05-01         31830.68          31659.89     510.97    8767.22   \n",
            "4 2022-06-01         16390.84          16640.68     254.27    5319.55   \n",
            "\n",
            "   Total_Burn_Rate  LTV_CAC_Ratio  \n",
            "0          2134.27      21.837345  \n",
            "1          1395.39      24.314326  \n",
            "2           311.28      24.976367  \n",
            "3          -170.79      17.157994  \n",
            "4           249.84      20.920872  \n"
          ]
        }
      ],
      "source": [
        "import pandas as pd\n",
        "\n",
        "# Load the startup data\n",
        "df = pd.read_csv('/content/startup_data.csv')\n",
        "\n",
        "# Convert 'Month' column to datetime objects for proper time-series analysis\n",
        "df['Month'] = pd.to_datetime(df['Month'], format='%b-%y')\n",
        "\n",
        "# --- Calculate Burn Rate ---\n",
        "# Burn rate is the rate at which a company is losing money.\n",
        "# It is calculated as Monthly Expenses minus Monthly Revenue.\n",
        "df['Burn_Rate'] = df['Monthly_Expenses'] - df['Monthly_Revenue']\n",
        "print(\"Burn Rate calculated per entry:\")\n",
        "print(df[['Month', 'Monthly_Revenue', 'Monthly_Expenses', 'Burn_Rate']].head())\n",
        "\n",
        "# --- Customer Acquisition Cost (CAC) and Lifetime Value (LTV) ---\n",
        "# CAC and LTV are directly available in the dataset in the 'CAC' and 'LTV' columns, respectively.\n",
        "print(\"\\nOriginal CAC values per entry:\")\n",
        "print(df[['Month', 'CAC']].head())\n",
        "print(\"\\nOriginal LTV values per entry:\")\n",
        "print(df[['Month', 'LTV']].head())\n",
        "\n",
        "# --- Calculate LTV:CAC Ratio ---\n",
        "# The LTV:CAC Ratio is calculated by dividing Lifetime Value (LTV) by Customer Acquisition Cost (CAC).\n",
        "# A check for division by zero is included to prevent errors.\n",
        "df['LTV_CAC_Ratio'] = df.apply(lambda row: row['LTV'] / row['CAC'] if row['CAC'] != 0 else 0, axis=1)\n",
        "print(\"\\nLTV:CAC Ratio calculated per entry:\")\n",
        "print(df[['Month', 'LTV', 'CAC', 'LTV_CAC_Ratio']].head())\n",
        "\n",
        "# --- Aggregate monthly KPIs ---\n",
        "# To get overall monthly figures, especially if the original data has multiple entries per month\n",
        "# for different categories, we aggregate by summing up the relevant metrics.\n",
        "monthly_kpis = df.groupby('Month').agg(\n",
        "    Monthly_Revenue=('Monthly_Revenue', 'sum'),\n",
        "    Monthly_Expenses=('Monthly_Expenses', 'sum'),\n",
        "    Total_CAC=('CAC', 'sum'),\n",
        "    Total_LTV=('LTV', 'sum'),\n",
        "    Total_Burn_Rate=('Burn_Rate', 'sum')\n",
        ").reset_index()\n",
        "\n",
        "# Re-calculate LTV:CAC Ratio based on the aggregated Total_LTV and Total_CAC for monthly totals\n",
        "monthly_kpis['LTV_CAC_Ratio'] = monthly_kpis.apply(lambda row: row['Total_LTV'] / row['Total_CAC'] if row['Total_CAC'] != 0 else 0, axis=1)\n",
        "\n",
        "print(\"\\nAggregated Monthly KPIs:\")\n",
        "print(monthly_kpis.head())\n",
        "\n",
        "# Optionally, save the aggregated monthly KPIs to a new CSV file\n",
        "monthly_kpis.to_csv('Cleaned_startup_data.csv', index=False)"
      ]
    },
    {
      "cell_type": "code",
      "source": [],
      "metadata": {
        "id": "1036S-ntRMnO"
      },
      "execution_count": null,
      "outputs": []
    }
  ]
}